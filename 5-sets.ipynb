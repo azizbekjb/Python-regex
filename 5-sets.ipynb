{
 "cells": [
  {
   "cell_type": "code",
   "execution_count": 1,
   "id": "e53471cc",
   "metadata": {},
   "outputs": [],
   "source": [
    "import re"
   ]
  },
  {
   "cell_type": "markdown",
   "id": "f586b8ca",
   "metadata": {},
   "source": [
    "# Sets - To'plamalar"
   ]
  },
  {
   "cell_type": "code",
   "execution_count": 2,
   "id": "142bd431",
   "metadata": {},
   "outputs": [
    {
     "data": {
      "text/plain": [
       "['r', 'a', 'n', 'n', 'a', 'n']"
      ]
     },
     "metadata": {},
     "output_type": "display_data"
    },
    {
     "name": "stdout",
     "output_type": "stream",
     "text": [
      "Ha, kamida bitta moslik bor | Yes, there is at least one match\n"
     ]
    }
   ],
   "source": [
    "# Set: [arn]\n",
    "# Description: Returns a match where one of the specified characters (a, r, or n) is present\n",
    "# Belgilangan belgilardan biri (a, r yoki n) mavjud bo'lgan moslikni qaytaradi\n",
    "\n",
    "# Check if the string has any a, r, or n characters:\n",
    "# Satrdagi a,r yoki n belgilarini uchrasa qaytaradi\n",
    "\n",
    "txt = \"The rain in Spani\"\n",
    "\n",
    "x = re.findall(\"[arn]\", txt)\n",
    "display(x)\n",
    "\n",
    "if x:\n",
    "    print(\"Ha, kamida bitta moslik bor | Yes, there is at least one match\")\n",
    "else:\n",
    "    print(\"Moslik yo'q | No match\")"
   ]
  },
  {
   "cell_type": "code",
   "execution_count": null,
   "id": "ceaa0d24",
   "metadata": {},
   "outputs": [
    {
     "name": "stdout",
     "output_type": "stream",
     "text": [
      "['h', 'e', 'a', 'i', 'n', 'i', 'n', 'a', 'n', 'i']\n",
      "Ha, kamida bitta moslik bor | Yes, there is at least one match\n"
     ]
    }
   ],
   "source": [
    "# Set: [a-n]\n",
    "# Description: Returns a match for any lower case character, alphabetically between a and n\n",
    "# Agar satrda a va n belgilari o'rstasidagi kichik belgilar bo'lsa, qaytardi\n",
    "\n",
    "# Check if the string has any characters between a and n:\n",
    "# Agar satrda a va n belgilari o'rstasidagi kichik belgilar bo'lsa, qaytardi\n",
    "\n",
    "x = re.findall(\"[a-n]\", txt)\n",
    "print(x)\n",
    "\n",
    "if x:\n",
    "    print(\"Ha, kamida bitta moslik bor | Yes, there is at least one match\")\n",
    "else:\n",
    "    print(\"Moslik yo'q | No match\")"
   ]
  },
  {
   "cell_type": "code",
   "execution_count": 5,
   "id": "867ec112",
   "metadata": {},
   "outputs": [
    {
     "name": "stdout",
     "output_type": "stream",
     "text": [
      "['T', 'h', 'e', ' ', 'i', ' ', 'i', ' ', 'S', 'p', 'i']\n",
      "Ha, kamida bitta moslik bor | Yes, there is at least one match\n"
     ]
    }
   ],
   "source": [
    "# Set: [^arn]\n",
    "# Description: Returns a match for any character EXCEPT a, r, and n\n",
    "# Agar satrda a, r va n belgilarda tashqarilar bo'lsa, qaytardi\n",
    "\n",
    "# Check if the string has other characters than a, r, or n:\n",
    "# a, r va n dan boshqa belgilar borligini tekshrish\n",
    "\n",
    "x = re.findall(\"[^arn]\", txt)\n",
    "print(x)\n",
    "\n",
    "if x:\n",
    "    print(\"Ha, kamida bitta moslik bor | Yes, there is at least one match\")\n",
    "else:\n",
    "    print(\"Moslik yo'q | No match\")"
   ]
  },
  {
   "cell_type": "code",
   "execution_count": null,
   "id": "ea57f9f6",
   "metadata": {},
   "outputs": [],
   "source": []
  }
 ],
 "metadata": {
  "kernelspec": {
   "display_name": "Python 3",
   "language": "python",
   "name": "python3"
  },
  "language_info": {
   "codemirror_mode": {
    "name": "ipython",
    "version": 3
   },
   "file_extension": ".py",
   "mimetype": "text/x-python",
   "name": "python",
   "nbconvert_exporter": "python",
   "pygments_lexer": "ipython3",
   "version": "3.12.3"
  }
 },
 "nbformat": 4,
 "nbformat_minor": 5
}
