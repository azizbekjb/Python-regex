{
 "cells": [
  {
   "cell_type": "code",
   "execution_count": 3,
   "id": "0e08630b",
   "metadata": {},
   "outputs": [],
   "source": [
    "import re"
   ]
  },
  {
   "cell_type": "markdown",
   "id": "52d5c57e",
   "metadata": {},
   "source": [
    "# Metacharacters \n",
    "### Metacharacters are characters with a special meaning\n",
    "\n"
   ]
  },
  {
   "cell_type": "code",
   "execution_count": 4,
   "id": "92a0870f",
   "metadata": {},
   "outputs": [],
   "source": [
    "txt = \"The rain in Spain\""
   ]
  },
  {
   "cell_type": "code",
   "execution_count": null,
   "id": "2f4bfae8",
   "metadata": {},
   "outputs": [
    {
     "name": "stdout",
     "output_type": "stream",
     "text": [
      "['h', 'e', 'a', 'i', 'i', 'a', 'i']\n"
     ]
    }
   ],
   "source": [
    "# character: []\n",
    "# description: A set of characters - Belgilar to'plami\n",
    "# example: \"[a-m]\"\n",
    "\n",
    "# Find all lower case characters alphabetically between \"a\" and  \"m\"\n",
    "# \"a\" va \"m\" harflari orasidagi barcha kichik harflarni alifbo tartibida topish\n",
    "\n",
    "\n",
    "x = re.findall(\"[a-m]\", txt)\n",
    "print(x)"
   ]
  },
  {
   "cell_type": "code",
   "execution_count": 8,
   "id": "fbe0e1fc",
   "metadata": {},
   "outputs": [
    {
     "name": "stdout",
     "output_type": "stream",
     "text": [
      "['5', '9']\n"
     ]
    },
    {
     "name": "stderr",
     "output_type": "stream",
     "text": [
      "<>:9: SyntaxWarning: invalid escape sequence '\\d'\n",
      "<>:9: SyntaxWarning: invalid escape sequence '\\d'\n",
      "/tmp/ipykernel_13117/2888026221.py:9: SyntaxWarning: invalid escape sequence '\\d'\n",
      "  x = re.findall(\"\\d\", txt)\n"
     ]
    }
   ],
   "source": [
    "# character: \\\n",
    "# description: Signals a special sequence (can also be used to escape special characters) - \n",
    "# maxsus ketma-ketlik, yana maxsus belgilardan qochish uchun ishlatiladi\n",
    "# example: \"\\d\"\n",
    "\n",
    "# Find all digit characters - Barcha raqamlarni topish\n",
    "\n",
    "txt = \"That will be 59 dollars\"\n",
    "x = re.findall(\"\\d\", txt)\n",
    "print(x)"
   ]
  },
  {
   "cell_type": "code",
   "execution_count": 9,
   "id": "5bcd04a2",
   "metadata": {},
   "outputs": [
    {
     "data": {
      "text/plain": [
       "['hello']"
      ]
     },
     "execution_count": 9,
     "metadata": {},
     "output_type": "execute_result"
    }
   ],
   "source": [
    "# character: .\n",
    "# description: Any character (except newline character) - Barcha belgilar faqat yangi qator belgisidan tashqari\n",
    "# example: \"he..o\"\n",
    "\n",
    "# Search for a sequence that starts with \"he\", followed by two (any) characters, and an \"o\":\n",
    "# Dastalbki ikki harfi \"he\", o'rtasi ixtiyoriy ikki belgi va oxiri \"o\" bilan so'z(ketma-ketlik)\n",
    "\n",
    "txt = \"hello planet\"\n",
    "x = re.findall(\"he..o\", txt)\n",
    "x"
   ]
  },
  {
   "cell_type": "code",
   "execution_count": 10,
   "id": "821eab12",
   "metadata": {},
   "outputs": [
    {
     "name": "stdout",
     "output_type": "stream",
     "text": [
      "Natija qaytish turi: <class 'list'>\n",
      "Ha matn 'hello' bilan boshlandi | Yes, the string starts with 'hello'\n"
     ]
    }
   ],
   "source": [
    "# character: ^\n",
    "# description: Starts with - Bilan boshlaydi\n",
    "# example: \"^hello\"\n",
    "\n",
    "# Check if the string starts with 'hello':\n",
    "# matnni 'hello' bilan boshlanishini tekshirish\n",
    "\n",
    "txt = \"hello planet\"\n",
    "x = re.findall(\"^hello\", txt)\n",
    "print(f\"Natija qaytish turi: {type(x)}\")\n",
    "if x:\n",
    "    print(\"Ha matn 'hello' bilan boshlandi | Yes, the string starts with 'hello'\")\n",
    "else:\n",
    "    print(\"Topilmadi | No match\")"
   ]
  },
  {
   "cell_type": "code",
   "execution_count": 11,
   "id": "656a097e",
   "metadata": {},
   "outputs": [
    {
     "name": "stdout",
     "output_type": "stream",
     "text": [
      "Ha, matn 'planet' bilan tugaydi | Yes, the string ends with 'planet'\n"
     ]
    }
   ],
   "source": [
    "# character: $\n",
    "# description: Ends with - Bilan tugaydi\n",
    "# example: \"planet$\"\n",
    "\n",
    "# Check if the string ends with 'planet'\n",
    "# Matni 'planet' so'zi bilan tugashini tekshirish\n",
    "txt = \"hello planet\"\n",
    "x = re.findall(\"planet$\", txt)\n",
    "if x:\n",
    "    print(\"Ha, matn 'planet' bilan tugaydi | Yes, the string ends with 'planet'\")\n",
    "else:\n",
    "    print(\"Topilmadi | No match\")"
   ]
  },
  {
   "cell_type": "code",
   "execution_count": null,
   "id": "58916d56",
   "metadata": {},
   "outputs": [
    {
     "data": {
      "text/plain": [
       "['hello']"
      ]
     },
     "execution_count": 13,
     "metadata": {},
     "output_type": "execute_result"
    }
   ],
   "source": [
    "# character: *\n",
    "# description: Zero or more occurrences - Nol yoki undan ko'p holatlar\n",
    "# example: \"he.*o\"\n",
    "\n",
    "# Search for a sequence that starts with \"he\", followed by 0 or more  (any) characters, and an \"o\":\n",
    "# Boshi - 'he', o'rtasida 0 ta va undan ortiq belgi va oxiri 'o' bilan tugaydigan so'z(ketma-ketlik)\n",
    "txt = \"hello planet\"\n",
    "x = re.findall(\"he.*o\", txt)\n",
    "x"
   ]
  },
  {
   "cell_type": "code",
   "execution_count": null,
   "id": "ffbf8e9b",
   "metadata": {},
   "outputs": [
    {
     "data": {
      "text/plain": [
       "['hello']"
      ]
     },
     "execution_count": 14,
     "metadata": {},
     "output_type": "execute_result"
    }
   ],
   "source": [
    "# character: +\n",
    "# description: One or more occurrences - Bir yoki undan ko'p holatlar\n",
    "# example: \"he.+o\"\n",
    "\n",
    "# Search for a sequence that starts with \"he\", followed by 1 or more  (any) characters, and an \"o\":\n",
    "# Boshi - 'he', o'rtasida 1 ta va undan ortiq belgi va oxiri 'o' bilan tugaydigan so'z(ketma-ketlik)\n",
    "txt = \"hello planet\"\n",
    "x = re.findall(\"he.*o\", txt)\n",
    "x"
   ]
  },
  {
   "cell_type": "code",
   "execution_count": 20,
   "id": "d9b9a819",
   "metadata": {},
   "outputs": [
    {
     "name": "stdout",
     "output_type": "stream",
     "text": [
      "\n",
      "    Bu safar bizda mos kelmadi, chunki \"he\" va \"o\" o'rtasida nol emas, bir emas, ikkita belgi bor edi. \n",
      "\n",
      "    This time we got no match, because there were not zero, not one, but two characters between \"he\" and the \"o\" \n"
     ]
    }
   ],
   "source": [
    "# character: ?\n",
    "# description: Zero or One occurrences - Bir yoki undan ko'p holatlar\n",
    "# example: \"he.?o\"\n",
    "\n",
    "# Search for a sequence that starts with \"he\", followed by 0 or 1 (any) characters, and an \"o\":\n",
    "# Boshi - 'h' va 'e' ketma-ketligidan boshlandi, '.' - ixtiyoriy belgi, '?' - oldingi belgi(.) 0 yoki 1 marta takrorlanishi mumkin\n",
    "txt = \"hello planet\"\n",
    "x = re.findall(\"he.?o\", txt)\n",
    "if x:\n",
    "    print(x)\n",
    "else:\n",
    "    print(\"\"\"\n",
    "    Bu safar bizda mos kelmadi, chunki \"he\" va \"o\" o'rtasida nol emas, bir emas, ikkita belgi bor edi. \\n\n",
    "    This time we got no match, because there were not zero, not one, but two characters between \"he\" and the \"o\" \"\"\")"
   ]
  },
  {
   "cell_type": "code",
   "execution_count": null,
   "id": "49afae88",
   "metadata": {},
   "outputs": [
    {
     "data": {
      "text/plain": [
       "['hello']"
      ]
     },
     "execution_count": 21,
     "metadata": {},
     "output_type": "execute_result"
    }
   ],
   "source": [
    "# character: {}\n",
    "# description: Exactly the specified number of occurrences - aynan ko'rsatoligan hodisalar soni\n",
    "# example: \"he.{2}o\"\n",
    "\n",
    "# Search for a sequence that starts with \"he\", followed excactly 2 (any) characters, and an \"o\":\n",
    "# \"he\" bilan boshlanadigan, 2 ta (istalgan) belgidan keyin va \"o\" dan keyin ketma-ketlikni qidiring:\n",
    "\n",
    "txt = \"hello planet\"\n",
    "x = re.findall(\"he.{2}o\", txt)\n",
    "x"
   ]
  },
  {
   "cell_type": "code",
   "execution_count": null,
   "id": "b28ec3ef",
   "metadata": {},
   "outputs": [
    {
     "data": {
      "text/plain": [
       "['falls']"
      ]
     },
     "execution_count": 22,
     "metadata": {},
     "output_type": "execute_result"
    }
   ],
   "source": [
    "# character: |\n",
    "# description: Either or - yoki\n",
    "# example: \"falls|stays\"\n",
    "\n",
    "# Check if the string contains either \"falls\" or \"stays\"\n",
    "# Agar matn ichiga \"falls\" yoki \"stays\" o'z ichiga olsa, uni qaytaradi\n",
    "\n",
    "txt = \"The rain in Spain falls mainly in the plain!\"\n",
    "x = re.findall(\"falls|stays\", txt)\n",
    "x "
   ]
  }
 ],
 "metadata": {
  "kernelspec": {
   "display_name": "Python 3",
   "language": "python",
   "name": "python3"
  },
  "language_info": {
   "codemirror_mode": {
    "name": "ipython",
    "version": 3
   },
   "file_extension": ".py",
   "mimetype": "text/x-python",
   "name": "python",
   "nbconvert_exporter": "python",
   "pygments_lexer": "ipython3",
   "version": "3.12.3"
  }
 },
 "nbformat": 4,
 "nbformat_minor": 5
}
