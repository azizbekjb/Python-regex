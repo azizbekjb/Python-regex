{
 "cells": [
  {
   "cell_type": "code",
   "execution_count": 1,
   "id": "def0d5de",
   "metadata": {},
   "outputs": [],
   "source": [
    "import re"
   ]
  },
  {
   "cell_type": "markdown",
   "id": "4fceefa7",
   "metadata": {},
   "source": [
    "# Special sequences"
   ]
  },
  {
   "cell_type": "code",
   "execution_count": 2,
   "id": "80c3d3b1",
   "metadata": {},
   "outputs": [
    {
     "name": "stderr",
     "output_type": "stream",
     "text": [
      "<>:8: SyntaxWarning: invalid escape sequence '\\A'\n",
      "<>:8: SyntaxWarning: invalid escape sequence '\\A'\n",
      "/tmp/ipykernel_7681/3876332927.py:8: SyntaxWarning: invalid escape sequence '\\A'\n",
      "  x = re.findall(\"\\AThe\", txt)\n"
     ]
    },
    {
     "data": {
      "text/plain": [
       "['The']"
      ]
     },
     "execution_count": 2,
     "metadata": {},
     "output_type": "execute_result"
    }
   ],
   "source": [
    "# character: \\A\n",
    "# description: Returns a match if the specified characters are at the beginning of the string \n",
    "# example: \"\\AThe\"\n",
    "\n",
    "# Check if the string starts with \"The\":\n",
    "\n",
    "txt = \"The rain in Spain\"\n",
    "x = re.findall(\"\\AThe\", txt)\n",
    "x\n"
   ]
  },
  {
   "cell_type": "code",
   "execution_count": null,
   "id": "cd54d611",
   "metadata": {},
   "outputs": [
    {
     "name": "stdout",
     "output_type": "stream",
     "text": [
      "[]\n",
      "Moslik yo'q | No match\n"
     ]
    }
   ],
   "source": [
    "# character: \\b\n",
    "# description:  Returns a match where the specified characters are at the beginning or at the end of a word\n",
    "# (the \"r\" in the beginning is making sure that the string is being treated as a \"raw string\")\n",
    "# Belgilangan belgilar so'z boshida yoki oxirida bo'lgan moslikni qaytaradi\n",
    "# (boshidagi \"r\" satrning \"xom satr\" sifatida ko'rib chiqilishiga ishonch hosil qiladi)\n",
    "# example: r\"\\bain\" \n",
    "\n",
    "txt = \"The rain in Spain\"\n",
    "# Check if \"ain\" is present at the beginning of a WORD:\n",
    "# SO'Z boshida \"ain\" mavjudligini tekshiring:\n",
    "\n",
    "\n",
    "\n",
    "x = re.findall(r\"\\bain\", txt)\n",
    "print(x)\n",
    "if x:\n",
    "    print(\"Ha, kamida bitta moslik bor | Yes, there is at least one match\")\n",
    "else:\n",
    "    print(\"Moslik yo'q | No match\")"
   ]
  },
  {
   "cell_type": "code",
   "execution_count": 5,
   "id": "da203fc1",
   "metadata": {},
   "outputs": [
    {
     "name": "stdout",
     "output_type": "stream",
     "text": [
      "['ain', 'ain']\n",
      "Ha, kamida bitta moslik bor | Yes, there is at least one match\n"
     ]
    }
   ],
   "source": [
    "# example: r\"ain\\b\"\n",
    "\n",
    "x = re.findall(r\"ain\\b\", txt)\n",
    "print(x)\n",
    "if x:\n",
    "    print(\"Ha, kamida bitta moslik bor | Yes, there is at least one match\")\n",
    "else:\n",
    "    print(\"Moslik yo'q | No match\")  "
   ]
  },
  {
   "cell_type": "code",
   "execution_count": null,
   "id": "15c00ad4",
   "metadata": {},
   "outputs": [
    {
     "name": "stdout",
     "output_type": "stream",
     "text": [
      "['ain', 'ain']\n",
      "Ha, kamida bitta moslik bor | Yes, there is at least one match\n"
     ]
    }
   ],
   "source": [
    "# character: \\B\n",
    "# description: Returns a match where the specified characters are present, but NOT at the beginning (or at the end) of a word\n",
    "# (the \"r\" in the beginning is making sure that the string is being treated as a \"raw string\")\n",
    "# Belgilangan belgilar mavjud bo'lgan moslikni qaytaradi, lekin so'z boshida (yoki oxirida) EMAS\n",
    "# (boshidagi \"r\" satrning \"xom satr\" sifatida ko'rib chiqilishiga ishonch hosil qiladi)\n",
    "# example: r\"\\Bain\"\n",
    "# \\b — “Word boundary” (so‘z chegarasi)\n",
    "\n",
    "# Check if \"ain\" is present, but NOT at the beginning of a word:\n",
    "# \"ain\" mavjudligini tekshiring, lekin so'z boshida EMAS:\n",
    "\n",
    "\n",
    "x = re.findall(r\"\\Bain\", txt)\n",
    "print(x)\n",
    "\n",
    "if x:\n",
    "    print(\"Ha, kamida bitta moslik bor | Yes, there is at least one match\")\n",
    "else:\n",
    "    print(\"Moslik yo'q | No match\")  "
   ]
  },
  {
   "cell_type": "code",
   "execution_count": null,
   "id": "4b6645d7",
   "metadata": {},
   "outputs": [
    {
     "name": "stdout",
     "output_type": "stream",
     "text": [
      "[]\n",
      "Moslik yo'q | No match\n"
     ]
    }
   ],
   "source": [
    "# example: r\"ain\\B\"\n",
    "# \\B — “Not a word boundary” (so‘z chegarasi emas)\n",
    "x = re.findall(r\"ain\\B\", txt)\n",
    "print(x)\n",
    "\n",
    "if x:\n",
    "    print(\"Ha, kamida bitta moslik bor | Yes, there is at least one match\")\n",
    "else:\n",
    "    print(\"Moslik yo'q | No match\")  "
   ]
  },
  {
   "cell_type": "code",
   "execution_count": 8,
   "id": "c47f0041",
   "metadata": {},
   "outputs": [
    {
     "name": "stdout",
     "output_type": "stream",
     "text": [
      "[]\n",
      "Moslik yo'q | No match\n"
     ]
    },
    {
     "name": "stderr",
     "output_type": "stream",
     "text": [
      "<>:7: SyntaxWarning: invalid escape sequence '\\d'\n",
      "<>:7: SyntaxWarning: invalid escape sequence '\\d'\n",
      "/tmp/ipykernel_5666/4092028534.py:7: SyntaxWarning: invalid escape sequence '\\d'\n",
      "  x = re.findall(\"\\d\", txt)\n"
     ]
    }
   ],
   "source": [
    "# character: \\d\n",
    "# description: Returns a match where the string contains digits (numbers from 0-9)\n",
    "# Mantni qaysidir qismida 0-9 gacha bo'lgan raqamlar bo'lsa qaytaradi\n",
    "\n",
    "txt = \"The rain in Spain\"\n",
    "\n",
    "x = re.findall(\"\\d\", txt)\n",
    "print(x)\n",
    "\n",
    "if x:\n",
    "    print(\"Ha, kamida bitta moslik bor | Yes, there is at least one match\")\n",
    "else:\n",
    "    print(\"Moslik yo'q | No match\")  "
   ]
  },
  {
   "cell_type": "code",
   "execution_count": null,
   "id": "428bf41d",
   "metadata": {},
   "outputs": [
    {
     "name": "stdout",
     "output_type": "stream",
     "text": [
      "['T', 'h', 'e', ' ', 'r', 'a', 'i', 'n', ' ', 'i', 'n', ' ', 'S', 'p', 'a', 'i', 'n']\n",
      "Ha, kamida bitta moslik bor | Yes, there is at least one match\n"
     ]
    },
    {
     "name": "stderr",
     "output_type": "stream",
     "text": [
      "<>:7: SyntaxWarning: invalid escape sequence '\\D'\n",
      "<>:7: SyntaxWarning: invalid escape sequence '\\D'\n",
      "/tmp/ipykernel_5666/2729161851.py:7: SyntaxWarning: invalid escape sequence '\\D'\n",
      "  x = re.findall(\"\\D\", txt)\n"
     ]
    }
   ],
   "source": [
    "# character: \\D\n",
    "# description: Returns a match where the string DOES NOT contain digits\n",
    "# Mantni qaysidir qismida 0-9 gacha bo'lgan raqamlar bo'lmasa qaytaradi\n",
    "# example: \"\\D\"\n",
    "\n",
    "txt = \"The rain in Spain\"\n",
    "\n",
    "x = re.findall(\"\\D\", txt)\n",
    "print(x)\n",
    "\n",
    "if x:\n",
    "    print(\"Ha, kamida bitta moslik bor | Yes, there is at least one match\")\n",
    "else:\n",
    "    print(\"Moslik yo'q | No match\")  "
   ]
  },
  {
   "cell_type": "code",
   "execution_count": 10,
   "id": "f71ea938",
   "metadata": {},
   "outputs": [
    {
     "name": "stdout",
     "output_type": "stream",
     "text": [
      "[' ', ' ', ' ']\n",
      "Ha, kamida bitta moslik bor | Yes, there is at least one match\n"
     ]
    },
    {
     "name": "stderr",
     "output_type": "stream",
     "text": [
      "<>:8: SyntaxWarning: invalid escape sequence '\\s'\n",
      "<>:8: SyntaxWarning: invalid escape sequence '\\s'\n",
      "/tmp/ipykernel_5666/1952363286.py:8: SyntaxWarning: invalid escape sequence '\\s'\n",
      "  x = re.findall(\"\\s\", txt)\n"
     ]
    }
   ],
   "source": [
    "# character: \\s\n",
    "# description: Returns a match where the string contains a white space character\n",
    "# Satrda boʻsh joy belgisi boʻlgan moslikni qaytaradi\n",
    "# example: \"\\s\"\n",
    "\n",
    "# Return a match at every white-space character:\n",
    "# Topilgan har bir bo'sh qiymat(probelni) qaytaradi\n",
    "x = re.findall(\"\\s\", txt)\n",
    "print(x)\n",
    "\n",
    "if x:\n",
    "    print(\"Ha, kamida bitta moslik bor | Yes, there is at least one match\")\n",
    "else:\n",
    "    print(\"Moslik yo'q | No match\")"
   ]
  },
  {
   "cell_type": "code",
   "execution_count": 11,
   "id": "45d6b9a5",
   "metadata": {},
   "outputs": [
    {
     "name": "stdout",
     "output_type": "stream",
     "text": [
      "['T', 'h', 'e', 'r', 'a', 'i', 'n', 'i', 'n', 'S', 'p', 'a', 'i', 'n']\n",
      "Ha, kamida bitta moslik bor | Yes, there is at least one match\n"
     ]
    },
    {
     "name": "stderr",
     "output_type": "stream",
     "text": [
      "<>:8: SyntaxWarning: invalid escape sequence '\\S'\n",
      "<>:8: SyntaxWarning: invalid escape sequence '\\S'\n",
      "/tmp/ipykernel_5666/1339553623.py:8: SyntaxWarning: invalid escape sequence '\\S'\n",
      "  x = re.findall(\"\\S\", txt)\n"
     ]
    }
   ],
   "source": [
    "# character: \\S\n",
    "# description: Returns a match where the string DOES NOT contain a white space character\n",
    "# Satrda boʻsh joy belgisi boʻlmasa moslikni qaytaradi\n",
    "# example: \"\\S\"\n",
    "\n",
    "# #Return a match at every NON white-space character:\n",
    "# Topilgan har bir bo'sh bo'lmagan qiymat(probelni) qaytaradi\n",
    "x = re.findall(\"\\S\", txt)\n",
    "print(x)\n",
    "\n",
    "if x:\n",
    "    print(\"Ha, kamida bitta moslik bor | Yes, there is at least one match\")\n",
    "else:\n",
    "    print(\"Moslik yo'q | No match\")"
   ]
  },
  {
   "cell_type": "code",
   "execution_count": null,
   "id": "a9bce3fb",
   "metadata": {},
   "outputs": [
    {
     "name": "stdout",
     "output_type": "stream",
     "text": [
      "['T', 'h', 'e', 'r', 'a', 'i', 'n', 'i', 'n', 'S', 'p', 'a', 'i', 'n']\n",
      "Ha, kamida bitta moslik bor | Yes, there is at least one match\n"
     ]
    },
    {
     "name": "stderr",
     "output_type": "stream",
     "text": [
      "<>:8: SyntaxWarning: invalid escape sequence '\\w'\n",
      "<>:8: SyntaxWarning: invalid escape sequence '\\w'\n",
      "/tmp/ipykernel_5666/1478981946.py:8: SyntaxWarning: invalid escape sequence '\\w'\n",
      "  x = re.findall(\"\\w\", txt)\n"
     ]
    }
   ],
   "source": [
    "# character: \\w\n",
    "# description:  Returns a match where the string contains any word characters (characters from a to Z, digits from 0-9, and the underscore _ character)\n",
    "# Satrda har qanday soʻz belgilari (a dan Z gacha boʻlgan belgilar, 0-9 gacha boʻlgan raqamlar va pastki chiziq _ belgisi) boʻlgan moslikni qaytaradi.\n",
    "# example: \"\\w\"\n",
    "\n",
    "#Return a match at every word character (characters from a to Z, digits from 0-9, and the underscore _ character):\n",
    "txt = \"The rain in Spain\"\n",
    "x = re.findall(\"\\w\", txt)\n",
    "\n",
    "print(x)\n",
    "\n",
    "if x:\n",
    "    print(\"Ha, kamida bitta moslik bor | Yes, there is at least one match\")\n",
    "else:\n",
    "    print(\"Moslik yo'q | No match\")"
   ]
  },
  {
   "cell_type": "code",
   "execution_count": 14,
   "id": "7853c3bc",
   "metadata": {},
   "outputs": [
    {
     "name": "stdout",
     "output_type": "stream",
     "text": [
      "[' ', ' ', ' ']\n",
      "Ha, kamida bitta moslik bor | Yes, there is at least one match\n"
     ]
    },
    {
     "name": "stderr",
     "output_type": "stream",
     "text": [
      "<>:11: SyntaxWarning: invalid escape sequence '\\W'\n",
      "<>:11: SyntaxWarning: invalid escape sequence '\\W'\n",
      "/tmp/ipykernel_5666/376075920.py:11: SyntaxWarning: invalid escape sequence '\\W'\n",
      "  x = re.findall(\"\\W\", txt)\n"
     ]
    }
   ],
   "source": [
    "# character: \\W\n",
    "# description:   \tReturns a match where the string DOES NOT contain any word characters\n",
    "# Qatorda hech qanday so'z belgilari YO'Q bo'lgan moslikni qaytaradi\n",
    "# example: \"\\W\"\n",
    "\n",
    "txt = \"The rain in Spain\"\n",
    "\n",
    "# Return a match at every NON word character (characters NOT between a and Z. Like \"!\", \"?\" white-space etc.):\n",
    "# Belgilar bo'lmagan va bo'sh joy, \"!\", \"?\" va h.klarni qaytari\n",
    "\n",
    "x = re.findall(\"\\W\", txt)\n",
    "print(x)\n",
    "\n",
    "if x:\n",
    "    print(\"Ha, kamida bitta moslik bor | Yes, there is at least one match\")\n",
    "else:\n",
    "    print(\"Moslik yo'q | No match\")"
   ]
  },
  {
   "cell_type": "code",
   "execution_count": 15,
   "id": "1f8bb86a",
   "metadata": {},
   "outputs": [
    {
     "name": "stdout",
     "output_type": "stream",
     "text": [
      "['Spain']\n",
      "Ha, kamida bitta moslik bor | Yes, there is at least one match\n"
     ]
    },
    {
     "name": "stderr",
     "output_type": "stream",
     "text": [
      "<>:8: SyntaxWarning: invalid escape sequence '\\Z'\n",
      "<>:8: SyntaxWarning: invalid escape sequence '\\Z'\n",
      "/tmp/ipykernel_5666/2640509163.py:8: SyntaxWarning: invalid escape sequence '\\Z'\n",
      "  x = re.findall(\"Spain\\Z\", txt)\n"
     ]
    }
   ],
   "source": [
    "# character: \\Z\n",
    "# description: Returns a match if the specified characters are at the end of the string\n",
    "# Belgilangan belgilar satr oxirida bo'lsa, moslikni qaytaradi\n",
    "# example: \"Spain\\Z\"\n",
    "\n",
    "# Check if the string ends with \"Spain\"\n",
    "\n",
    "x = re.findall(\"Spain\\Z\", txt)\n",
    "print(x)\n",
    "\n",
    "if x:\n",
    "    print(\"Ha, kamida bitta moslik bor | Yes, there is at least one match\")\n",
    "else:\n",
    "    print(\"Moslik yo'q | No match\")"
   ]
  }
 ],
 "metadata": {
  "kernelspec": {
   "display_name": "Python 3",
   "language": "python",
   "name": "python3"
  },
  "language_info": {
   "codemirror_mode": {
    "name": "ipython",
    "version": 3
   },
   "file_extension": ".py",
   "mimetype": "text/x-python",
   "name": "python",
   "nbconvert_exporter": "python",
   "pygments_lexer": "ipython3",
   "version": "3.12.3"
  }
 },
 "nbformat": 4,
 "nbformat_minor": 5
}
