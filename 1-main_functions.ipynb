{
 "cells": [
  {
   "cell_type": "code",
   "execution_count": 1,
   "id": "67f62fcd",
   "metadata": {},
   "outputs": [],
   "source": [
    "import re"
   ]
  },
  {
   "cell_type": "code",
   "execution_count": 8,
   "id": "bc39819a",
   "metadata": {},
   "outputs": [],
   "source": [
    "txt = \"The rain in Spain\" \n",
    "x = re.search(\"^The.*Spain$\", txt) # Matnni boshi \"The\" bilan oxiri esa \"Spain\" bilan tugashini tekshiradi"
   ]
  },
  {
   "cell_type": "code",
   "execution_count": null,
   "id": "d65d7cf0",
   "metadata": {},
   "outputs": [
    {
     "name": "stdout",
     "output_type": "stream",
     "text": [
      "<re.Match object; span=(0, 17), match='The rain in Spain'>\n"
     ]
    }
   ],
   "source": [
    "print(x)"
   ]
  },
  {
   "cell_type": "markdown",
   "id": "cc1b14a1",
   "metadata": {},
   "source": [
    "## findall()"
   ]
  },
  {
   "cell_type": "code",
   "execution_count": null,
   "id": "859ed099",
   "metadata": {},
   "outputs": [
    {
     "data": {
      "text/plain": [
       "['ai', 'ai']"
      ]
     },
     "execution_count": 10,
     "metadata": {},
     "output_type": "execute_result"
    }
   ],
   "source": [
    "x = re.findall(\"ai\", txt) # textdagi barcha \"ai\" qismi mavjudlarini qaytaradi\n",
    "x"
   ]
  },
  {
   "cell_type": "code",
   "execution_count": 15,
   "id": "6ad7fe80",
   "metadata": {},
   "outputs": [
    {
     "data": {
      "text/plain": [
       "'not in text'"
      ]
     },
     "execution_count": 15,
     "metadata": {},
     "output_type": "execute_result"
    }
   ],
   "source": [
    "x = re.findall(\"Portugal\", txt)\n",
    "\"not in text\" if not x else \"that is in\""
   ]
  },
  {
   "cell_type": "markdown",
   "id": "a685ea16",
   "metadata": {},
   "source": [
    "## search()\n"
   ]
  },
  {
   "cell_type": "code",
   "execution_count": 16,
   "id": "539eedc2",
   "metadata": {},
   "outputs": [
    {
     "name": "stderr",
     "output_type": "stream",
     "text": [
      "<>:1: SyntaxWarning: invalid escape sequence '\\s'\n",
      "<>:1: SyntaxWarning: invalid escape sequence '\\s'\n",
      "/tmp/ipykernel_69794/2584069161.py:1: SyntaxWarning: invalid escape sequence '\\s'\n",
      "  x = re.search(\"\\s\", txt)\n"
     ]
    },
    {
     "data": {
      "text/plain": [
       "<re.Match object; span=(3, 4), match=' '>"
      ]
     },
     "execution_count": 16,
     "metadata": {},
     "output_type": "execute_result"
    }
   ],
   "source": [
    "x = re.search(\"\\s\", txt)\n",
    "x"
   ]
  },
  {
   "cell_type": "code",
   "execution_count": 18,
   "id": "4e97f939",
   "metadata": {},
   "outputs": [
    {
     "name": "stdout",
     "output_type": "stream",
     "text": [
      "Birinchi bo'shliq 3 o'rinda joylashgan\n"
     ]
    }
   ],
   "source": [
    "print(f\"Birinchi bo'shliq {x.start()} o'rinda joylashgan\")"
   ]
  },
  {
   "cell_type": "code",
   "execution_count": 19,
   "id": "0621831d",
   "metadata": {},
   "outputs": [],
   "source": [
    "x = re.search(\"Portugal\", txt)\n",
    "x"
   ]
  },
  {
   "cell_type": "code",
   "execution_count": 20,
   "id": "b419e68c",
   "metadata": {},
   "outputs": [
    {
     "name": "stdout",
     "output_type": "stream",
     "text": [
      "None\n"
     ]
    }
   ],
   "source": [
    "print(x)"
   ]
  },
  {
   "cell_type": "markdown",
   "id": "3e281997",
   "metadata": {},
   "source": [
    "## split()"
   ]
  },
  {
   "cell_type": "code",
   "execution_count": 23,
   "id": "b53d9dbb",
   "metadata": {},
   "outputs": [
    {
     "name": "stdout",
     "output_type": "stream",
     "text": [
      "['The', 'rain', 'in', 'Spain']\n"
     ]
    },
    {
     "name": "stderr",
     "output_type": "stream",
     "text": [
      "<>:1: SyntaxWarning: invalid escape sequence '\\s'\n",
      "<>:1: SyntaxWarning: invalid escape sequence '\\s'\n",
      "/tmp/ipykernel_69794/45357234.py:1: SyntaxWarning: invalid escape sequence '\\s'\n",
      "  x = re.split(\"\\s\", txt) # Bo'sh joylardan ajratib listga saqlash\n"
     ]
    }
   ],
   "source": [
    "x = re.split(\"\\s\", txt) # Bo'sh joylardan ajratib listga saqlash\n",
    "print(x)"
   ]
  },
  {
   "cell_type": "code",
   "execution_count": 30,
   "id": "6685efb5",
   "metadata": {},
   "outputs": [
    {
     "name": "stderr",
     "output_type": "stream",
     "text": [
      "<>:1: SyntaxWarning: invalid escape sequence '\\s'\n",
      "<>:1: SyntaxWarning: invalid escape sequence '\\s'\n",
      "/tmp/ipykernel_69794/4043955354.py:1: SyntaxWarning: invalid escape sequence '\\s'\n",
      "  x = re.split(\"\\s\", txt, 3) # \"maxsplit\" parametri orqali birinchi bo'sh joydan ajratish\n"
     ]
    },
    {
     "data": {
      "text/plain": [
       "['The', 'rain', 'in', 'Spain']"
      ]
     },
     "execution_count": 30,
     "metadata": {},
     "output_type": "execute_result"
    }
   ],
   "source": [
    "x = re.split(\"\\s\", txt, 3) # \"maxsplit\" parametri orqali birinchi bo'sh joydan ajratish\n",
    "x "
   ]
  },
  {
   "cell_type": "markdown",
   "id": "381bc349",
   "metadata": {},
   "source": [
    "## sub() funksiyasi - tekshirilgan qiymat o'rniga boshqa qiymat qo'yish "
   ]
  },
  {
   "cell_type": "code",
   "execution_count": 32,
   "id": "c24b4a57",
   "metadata": {},
   "outputs": [
    {
     "name": "stdout",
     "output_type": "stream",
     "text": [
      "The9rain9in9Spain\n"
     ]
    },
    {
     "name": "stderr",
     "output_type": "stream",
     "text": [
      "<>:1: SyntaxWarning: invalid escape sequence '\\s'\n",
      "<>:1: SyntaxWarning: invalid escape sequence '\\s'\n",
      "/tmp/ipykernel_69794/1435006477.py:1: SyntaxWarning: invalid escape sequence '\\s'\n",
      "  x = re.sub(\"\\s\", \"9\", txt)\n"
     ]
    }
   ],
   "source": [
    "x = re.sub(\"\\s\", \"9\", txt)\n",
    "print(x) # Matndagi barcha bo'sh joylar o'rniga \"9\" qo'yib chiqadi"
   ]
  },
  {
   "cell_type": "code",
   "execution_count": 35,
   "id": "c0f46ba9",
   "metadata": {},
   "outputs": [
    {
     "name": "stdout",
     "output_type": "stream",
     "text": [
      "The9rain9in Spain\n"
     ]
    },
    {
     "name": "stderr",
     "output_type": "stream",
     "text": [
      "<>:2: SyntaxWarning: invalid escape sequence '\\s'\n",
      "<>:2: SyntaxWarning: invalid escape sequence '\\s'\n",
      "/tmp/ipykernel_69794/2290574616.py:2: SyntaxWarning: invalid escape sequence '\\s'\n",
      "  x = re.sub(\"\\s\", \"9\", txt, count=2)\n"
     ]
    }
   ],
   "source": [
    "# Dastlab ikkita joyni o'zgartirish\n",
    "x = re.sub(\"\\s\", \"9\", txt, count=2)\n",
    "print(x)"
   ]
  },
  {
   "cell_type": "markdown",
   "id": "6048ac51",
   "metadata": {},
   "source": [
    "## Solishtirish obyekti"
   ]
  },
  {
   "cell_type": "code",
   "execution_count": 36,
   "id": "3cab0a42",
   "metadata": {},
   "outputs": [
    {
     "name": "stdout",
     "output_type": "stream",
     "text": [
      "(12, 17)\n"
     ]
    }
   ],
   "source": [
    "x = re.search(r\"\\bS\\w+\", txt)\n",
    "print(x.span())"
   ]
  },
  {
   "cell_type": "code",
   "execution_count": 38,
   "id": "b471f7f0",
   "metadata": {},
   "outputs": [
    {
     "data": {
      "text/plain": [
       "'The rain in Spain'"
      ]
     },
     "execution_count": 38,
     "metadata": {},
     "output_type": "execute_result"
    }
   ],
   "source": [
    "x.string"
   ]
  },
  {
   "cell_type": "code",
   "execution_count": 39,
   "id": "1be9d771",
   "metadata": {},
   "outputs": [
    {
     "data": {
      "text/plain": [
       "'Spain'"
      ]
     },
     "execution_count": 39,
     "metadata": {},
     "output_type": "execute_result"
    }
   ],
   "source": [
    "x.group()"
   ]
  }
 ],
 "metadata": {
  "kernelspec": {
   "display_name": "Python 3",
   "language": "python",
   "name": "python3"
  },
  "language_info": {
   "codemirror_mode": {
    "name": "ipython",
    "version": 3
   },
   "file_extension": ".py",
   "mimetype": "text/x-python",
   "name": "python",
   "nbconvert_exporter": "python",
   "pygments_lexer": "ipython3",
   "version": "3.12.3"
  }
 },
 "nbformat": 4,
 "nbformat_minor": 5
}
